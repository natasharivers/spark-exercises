{
 "cells": [
  {
   "cell_type": "markdown",
   "metadata": {},
   "source": [
    "# Spark API"
   ]
  },
  {
   "cell_type": "code",
   "execution_count": 1,
   "metadata": {},
   "outputs": [],
   "source": [
    "import pyspark\n",
    "\n",
    "spark = pyspark.sql.SparkSession.builder.getOrCreate()"
   ]
  },
  {
   "cell_type": "code",
   "execution_count": 2,
   "metadata": {},
   "outputs": [
    {
     "data": {
      "text/html": [
       "\n",
       "            <div>\n",
       "                <p><b>SparkSession - in-memory</b></p>\n",
       "                \n",
       "        <div>\n",
       "            <p><b>SparkContext</b></p>\n",
       "\n",
       "            <p><a href=\"http://natashas-air.attlocal.net:4040\">Spark UI</a></p>\n",
       "\n",
       "            <dl>\n",
       "              <dt>Version</dt>\n",
       "                <dd><code>v3.1.2</code></dd>\n",
       "              <dt>Master</dt>\n",
       "                <dd><code>local[*]</code></dd>\n",
       "              <dt>AppName</dt>\n",
       "                <dd><code>pyspark-shell</code></dd>\n",
       "            </dl>\n",
       "        </div>\n",
       "        \n",
       "            </div>\n",
       "        "
      ],
      "text/plain": [
       "<pyspark.sql.session.SparkSession at 0x7f8348b06c70>"
      ]
     },
     "execution_count": 2,
     "metadata": {},
     "output_type": "execute_result"
    }
   ],
   "source": [
    "spark"
   ]
  },
  {
   "cell_type": "code",
   "execution_count": 3,
   "metadata": {},
   "outputs": [],
   "source": [
    "#for demonstration, we'll create a spark dataframe from a pandas dataframe\n",
    "import numpy as np\n",
    "import pandas as pd\n",
    "import pydataset"
   ]
  },
  {
   "cell_type": "code",
   "execution_count": 4,
   "metadata": {},
   "outputs": [
    {
     "name": "stdout",
     "output_type": "stream",
     "text": [
      "+----------+----+------+------+---+------+----+\n",
      "|total_bill| tip|   sex|smoker|day|  time|size|\n",
      "+----------+----+------+------+---+------+----+\n",
      "|     16.99|1.01|Female|    No|Sun|Dinner|   2|\n",
      "|     10.34|1.66|  Male|    No|Sun|Dinner|   3|\n",
      "|     21.01| 3.5|  Male|    No|Sun|Dinner|   3|\n",
      "|     23.68|3.31|  Male|    No|Sun|Dinner|   2|\n",
      "|     24.59|3.61|Female|    No|Sun|Dinner|   4|\n",
      "|     25.29|4.71|  Male|    No|Sun|Dinner|   4|\n",
      "|      8.77| 2.0|  Male|    No|Sun|Dinner|   2|\n",
      "|     26.88|3.12|  Male|    No|Sun|Dinner|   4|\n",
      "|     15.04|1.96|  Male|    No|Sun|Dinner|   2|\n",
      "|     14.78|3.23|  Male|    No|Sun|Dinner|   2|\n",
      "|     10.27|1.71|  Male|    No|Sun|Dinner|   2|\n",
      "|     35.26| 5.0|Female|    No|Sun|Dinner|   4|\n",
      "|     15.42|1.57|  Male|    No|Sun|Dinner|   2|\n",
      "|     18.43| 3.0|  Male|    No|Sun|Dinner|   4|\n",
      "|     14.83|3.02|Female|    No|Sun|Dinner|   2|\n",
      "|     21.58|3.92|  Male|    No|Sun|Dinner|   2|\n",
      "|     10.33|1.67|Female|    No|Sun|Dinner|   3|\n",
      "|     16.29|3.71|  Male|    No|Sun|Dinner|   3|\n",
      "|     16.97| 3.5|Female|    No|Sun|Dinner|   3|\n",
      "|     20.65|3.35|  Male|    No|Sat|Dinner|   3|\n",
      "+----------+----+------+------+---+------+----+\n",
      "only showing top 20 rows\n",
      "\n"
     ]
    }
   ],
   "source": [
    "#import tips from pydataset\n",
    "tips = pydataset.data('tips')\n",
    "\n",
    "#turn pandas df into a spark df\n",
    "df = spark.createDataFrame(tips)\n",
    "\n",
    "#look at the data\n",
    "df.show()"
   ]
  },
  {
   "cell_type": "markdown",
   "metadata": {},
   "source": [
    "<hr style=\"border:2px solid black\"> </hr>"
   ]
  },
  {
   "cell_type": "markdown",
   "metadata": {},
   "source": [
    "## DataFrame Basics"
   ]
  },
  {
   "cell_type": "code",
   "execution_count": 5,
   "metadata": {},
   "outputs": [
    {
     "data": {
      "text/plain": [
       "DataFrame[total_bill: double, tip: double, sex: string, smoker: string, day: string, time: string, size: bigint]"
      ]
     },
     "execution_count": 5,
     "metadata": {},
     "output_type": "execute_result"
    }
   ],
   "source": [
    "#spark is lazy\n",
    "#if will only show you the column names and size\n",
    "df"
   ]
  },
  {
   "cell_type": "code",
   "execution_count": 6,
   "metadata": {},
   "outputs": [
    {
     "name": "stdout",
     "output_type": "stream",
     "text": [
      "+----------+----+------+------+---+------+----+\n",
      "|total_bill| tip|   sex|smoker|day|  time|size|\n",
      "+----------+----+------+------+---+------+----+\n",
      "|     16.99|1.01|Female|    No|Sun|Dinner|   2|\n",
      "|     10.34|1.66|  Male|    No|Sun|Dinner|   3|\n",
      "|     21.01| 3.5|  Male|    No|Sun|Dinner|   3|\n",
      "|     23.68|3.31|  Male|    No|Sun|Dinner|   2|\n",
      "|     24.59|3.61|Female|    No|Sun|Dinner|   4|\n",
      "+----------+----+------+------+---+------+----+\n",
      "only showing top 5 rows\n",
      "\n"
     ]
    }
   ],
   "source": [
    "#this is how you actually look at the contents\n",
    "df.show(5)"
   ]
  },
  {
   "cell_type": "code",
   "execution_count": 8,
   "metadata": {},
   "outputs": [
    {
     "name": "stdout",
     "output_type": "stream",
     "text": [
      "-RECORD 0------------\n",
      " total_bill | 16.99  \n",
      " tip        | 1.01   \n",
      " sex        | Female \n",
      " smoker     | No     \n",
      " day        | Sun    \n",
      " time       | Dinner \n",
      " size       | 2      \n",
      "-RECORD 1------------\n",
      " total_bill | 10.34  \n",
      " tip        | 1.66   \n",
      " sex        | Male   \n",
      " smoker     | No     \n",
      " day        | Sun    \n",
      " time       | Dinner \n",
      " size       | 3      \n",
      "-RECORD 2------------\n",
      " total_bill | 21.01  \n",
      " tip        | 3.5    \n",
      " sex        | Male   \n",
      " smoker     | No     \n",
      " day        | Sun    \n",
      " time       | Dinner \n",
      " size       | 3      \n",
      "-RECORD 3------------\n",
      " total_bill | 23.68  \n",
      " tip        | 3.31   \n",
      " sex        | Male   \n",
      " smoker     | No     \n",
      " day        | Sun    \n",
      " time       | Dinner \n",
      " size       | 2      \n",
      "-RECORD 4------------\n",
      " total_bill | 24.59  \n",
      " tip        | 3.61   \n",
      " sex        | Female \n",
      " smoker     | No     \n",
      " day        | Sun    \n",
      " time       | Dinner \n",
      " size       | 4      \n",
      "only showing top 5 rows\n",
      "\n"
     ]
    }
   ],
   "source": [
    "#this is how you transpose\n",
    "df.show(5, vertical=True)"
   ]
  },
  {
   "cell_type": "code",
   "execution_count": 9,
   "metadata": {},
   "outputs": [
    {
     "name": "stdout",
     "output_type": "stream",
     "text": [
      "+----------+----+------+------+---+------+----+\n",
      "|total_bill| tip|   sex|smoker|day|  time|size|\n",
      "+----------+----+------+------+---+------+----+\n",
      "|     16.99|1.01|Female|    No|Sun|Dinner|   2|\n",
      "|     10.34|1.66|  Male|    No|Sun|Dinner|   3|\n",
      "|     21.01| 3.5|  Male|    No|Sun|Dinner|   3|\n",
      "|     23.68|3.31|  Male|    No|Sun|Dinner|   2|\n",
      "|     24.59|3.61|Female|    No|Sun|Dinner|   4|\n",
      "|     25.29|4.71|  Male|    No|Sun|Dinner|   4|\n",
      "|      8.77| 2.0|  Male|    No|Sun|Dinner|   2|\n",
      "|     26.88|3.12|  Male|    No|Sun|Dinner|   4|\n",
      "|     15.04|1.96|  Male|    No|Sun|Dinner|   2|\n",
      "|     14.78|3.23|  Male|    No|Sun|Dinner|   2|\n",
      "+----------+----+------+------+---+------+----+\n",
      "only showing top 10 rows\n",
      "\n"
     ]
    }
   ],
   "source": [
    "# Don't do this!\n",
    "# just use .show to view df contents\n",
    "df2 = df.show(10)"
   ]
  },
  {
   "cell_type": "code",
   "execution_count": 10,
   "metadata": {},
   "outputs": [
    {
     "data": {
      "text/plain": [
       "NoneType"
      ]
     },
     "execution_count": 10,
     "metadata": {},
     "output_type": "execute_result"
    }
   ],
   "source": [
    "#df.show() == is a print statement\n",
    "#can not save a variable to .show()\n",
    "type(df2)"
   ]
  },
  {
   "cell_type": "code",
   "execution_count": 11,
   "metadata": {},
   "outputs": [
    {
     "data": {
      "text/plain": [
       "[Row(total_bill=16.99, tip=1.01, sex='Female', smoker='No', day='Sun', time='Dinner', size=2),\n",
       " Row(total_bill=10.34, tip=1.66, sex='Male', smoker='No', day='Sun', time='Dinner', size=3),\n",
       " Row(total_bill=21.01, tip=3.5, sex='Male', smoker='No', day='Sun', time='Dinner', size=3),\n",
       " Row(total_bill=23.68, tip=3.31, sex='Male', smoker='No', day='Sun', time='Dinner', size=2),\n",
       " Row(total_bill=24.59, tip=3.61, sex='Female', smoker='No', day='Sun', time='Dinner', size=4)]"
      ]
     },
     "execution_count": 11,
     "metadata": {},
     "output_type": "execute_result"
    }
   ],
   "source": [
    "#gives back a list of row objects\n",
    "df.head(5)"
   ]
  },
  {
   "cell_type": "code",
   "execution_count": 12,
   "metadata": {},
   "outputs": [
    {
     "data": {
      "text/plain": [
       "Row(total_bill=16.99, tip=1.01, sex='Female', smoker='No', day='Sun', time='Dinner', size=2)"
      ]
     },
     "execution_count": 12,
     "metadata": {},
     "output_type": "execute_result"
    }
   ],
   "source": [
    "#grab first item from the list\n",
    "df.head(5)[0]"
   ]
  },
  {
   "cell_type": "code",
   "execution_count": 13,
   "metadata": {},
   "outputs": [
    {
     "data": {
      "text/plain": [
       "'Dinner'"
      ]
     },
     "execution_count": 13,
     "metadata": {},
     "output_type": "execute_result"
    }
   ],
   "source": [
    "#grab just time from that row\n",
    "df.head(5)[0].time"
   ]
  },
  {
   "cell_type": "markdown",
   "metadata": {},
   "source": [
    "<hr style=\"border:2px solid black\"> </hr>"
   ]
  },
  {
   "cell_type": "markdown",
   "metadata": {},
   "source": [
    "## Selecting Columns"
   ]
  },
  {
   "cell_type": "code",
   "execution_count": 15,
   "metadata": {},
   "outputs": [
    {
     "name": "stdout",
     "output_type": "stream",
     "text": [
      "+----------+----+----+---+\n",
      "|total_bill| tip|size|day|\n",
      "+----------+----+----+---+\n",
      "|     16.99|1.01|   2|Sun|\n",
      "|     10.34|1.66|   3|Sun|\n",
      "|     21.01| 3.5|   3|Sun|\n",
      "|     23.68|3.31|   2|Sun|\n",
      "|     24.59|3.61|   4|Sun|\n",
      "+----------+----+----+---+\n",
      "only showing top 5 rows\n",
      "\n"
     ]
    }
   ],
   "source": [
    "#filter down to specified columns\n",
    "df.select('total_bill', 'tip', 'size', 'day').show(5)"
   ]
  },
  {
   "cell_type": "code",
   "execution_count": 16,
   "metadata": {},
   "outputs": [
    {
     "data": {
      "text/plain": [
       "DataFrame[total_bill: double, tip: double, sex: string, smoker: string, day: string, time: string, size: bigint]"
      ]
     },
     "execution_count": 16,
     "metadata": {},
     "output_type": "execute_result"
    }
   ],
   "source": [
    "#returns everything\n",
    "df.select('*')"
   ]
  },
  {
   "cell_type": "code",
   "execution_count": 17,
   "metadata": {},
   "outputs": [
    {
     "name": "stdout",
     "output_type": "stream",
     "text": [
      "+-------------------+\n",
      "| (tip / total_bill)|\n",
      "+-------------------+\n",
      "|0.05944673337257211|\n",
      "|0.16054158607350097|\n",
      "|0.16658733936220846|\n",
      "| 0.1397804054054054|\n",
      "|0.14680764538430255|\n",
      "+-------------------+\n",
      "only showing top 5 rows\n",
      "\n"
     ]
    }
   ],
   "source": [
    "#perform division in table\n",
    "df.select(df.tip / df.total_bill).show(5)"
   ]
  },
  {
   "cell_type": "code",
   "execution_count": 18,
   "metadata": {},
   "outputs": [
    {
     "data": {
      "text/plain": [
       "Column<'(tip / total_bill)'>"
      ]
     },
     "execution_count": 18,
     "metadata": {},
     "output_type": "execute_result"
    }
   ],
   "source": [
    "#assign to variable\n",
    "col = df.tip / df.total_bill\n",
    "col"
   ]
  },
  {
   "cell_type": "code",
   "execution_count": 22,
   "metadata": {},
   "outputs": [
    {
     "name": "stdout",
     "output_type": "stream",
     "text": [
      "+----------+----+------+------+---+------+----+-------------------+\n",
      "|total_bill| tip|   sex|smoker|day|  time|size| (tip / total_bill)|\n",
      "+----------+----+------+------+---+------+----+-------------------+\n",
      "|     16.99|1.01|Female|    No|Sun|Dinner|   2|0.05944673337257211|\n",
      "|     10.34|1.66|  Male|    No|Sun|Dinner|   3|0.16054158607350097|\n",
      "|     21.01| 3.5|  Male|    No|Sun|Dinner|   3|0.16658733936220846|\n",
      "|     23.68|3.31|  Male|    No|Sun|Dinner|   2| 0.1397804054054054|\n",
      "|     24.59|3.61|Female|    No|Sun|Dinner|   4|0.14680764538430255|\n",
      "+----------+----+------+------+---+------+----+-------------------+\n",
      "only showing top 5 rows\n",
      "\n"
     ]
    }
   ],
   "source": [
    "#create new column\n",
    "df.select('*', col).show(5)"
   ]
  },
  {
   "cell_type": "code",
   "execution_count": 23,
   "metadata": {},
   "outputs": [
    {
     "name": "stdout",
     "output_type": "stream",
     "text": [
      "+----------+----+------+------+---+------+----+-------------------+\n",
      "|total_bill| tip|   sex|smoker|day|  time|size|            tip_pct|\n",
      "+----------+----+------+------+---+------+----+-------------------+\n",
      "|     16.99|1.01|Female|    No|Sun|Dinner|   2|0.05944673337257211|\n",
      "|     10.34|1.66|  Male|    No|Sun|Dinner|   3|0.16054158607350097|\n",
      "|     21.01| 3.5|  Male|    No|Sun|Dinner|   3|0.16658733936220846|\n",
      "|     23.68|3.31|  Male|    No|Sun|Dinner|   2| 0.1397804054054054|\n",
      "|     24.59|3.61|Female|    No|Sun|Dinner|   4|0.14680764538430255|\n",
      "+----------+----+------+------+---+------+----+-------------------+\n",
      "only showing top 5 rows\n",
      "\n"
     ]
    }
   ],
   "source": [
    "#rename new column using .alias\n",
    "df.select('*', col.alias('tip_pct')).show(5)"
   ]
  },
  {
   "cell_type": "code",
   "execution_count": 24,
   "metadata": {},
   "outputs": [],
   "source": [
    "#assign to new variable\n",
    "df_with_tip_pct = df.select('*', col.alias('tip_pct'))"
   ]
  },
  {
   "cell_type": "code",
   "execution_count": 25,
   "metadata": {},
   "outputs": [
    {
     "name": "stdout",
     "output_type": "stream",
     "text": [
      "+----------+----+------+------+---+------+----+-------------------+\n",
      "|total_bill| tip|   sex|smoker|day|  time|size|            tip_pct|\n",
      "+----------+----+------+------+---+------+----+-------------------+\n",
      "|     16.99|1.01|Female|    No|Sun|Dinner|   2|0.05944673337257211|\n",
      "|     10.34|1.66|  Male|    No|Sun|Dinner|   3|0.16054158607350097|\n",
      "|     21.01| 3.5|  Male|    No|Sun|Dinner|   3|0.16658733936220846|\n",
      "|     23.68|3.31|  Male|    No|Sun|Dinner|   2| 0.1397804054054054|\n",
      "|     24.59|3.61|Female|    No|Sun|Dinner|   4|0.14680764538430255|\n",
      "+----------+----+------+------+---+------+----+-------------------+\n",
      "only showing top 5 rows\n",
      "\n"
     ]
    }
   ],
   "source": [
    "#look at new df with added column\n",
    "df_with_tip_pct.show(5)"
   ]
  },
  {
   "cell_type": "markdown",
   "metadata": {},
   "source": [
    "<hr style=\"border:2px solid black\"> </hr>"
   ]
  },
  {
   "cell_type": "markdown",
   "metadata": {},
   "source": [
    "## Selecting w/ Built In Functions"
   ]
  },
  {
   "cell_type": "code",
   "execution_count": 26,
   "metadata": {},
   "outputs": [],
   "source": [
    "#import built in functions\n",
    "from pyspark.sql.functions import sum, mean, concat, lit, regexp_extract, regexp_replace, when"
   ]
  },
  {
   "cell_type": "code",
   "execution_count": 27,
   "metadata": {},
   "outputs": [
    {
     "name": "stdout",
     "output_type": "stream",
     "text": [
      "+------------------+-----------------+\n",
      "|          avg(tip)|  sum(total_bill)|\n",
      "+------------------+-----------------+\n",
      "|2.9982786885245907|4827.769999999999|\n",
      "+------------------+-----------------+\n",
      "\n"
     ]
    }
   ],
   "source": [
    "#average tip, sum of all total bills\n",
    "df.select(mean(df.tip), sum(df.total_bill)).show()"
   ]
  },
  {
   "cell_type": "code",
   "execution_count": 28,
   "metadata": {},
   "outputs": [
    {
     "name": "stdout",
     "output_type": "stream",
     "text": [
      "+--------------------+\n",
      "|concat(day,  , time)|\n",
      "+--------------------+\n",
      "|          Sun Dinner|\n",
      "|          Sun Dinner|\n",
      "|          Sun Dinner|\n",
      "|          Sun Dinner|\n",
      "|          Sun Dinner|\n",
      "+--------------------+\n",
      "only showing top 5 rows\n",
      "\n"
     ]
    }
   ],
   "source": [
    "#add weekday and time of service with space in between\n",
    "#can only concat string value columns\n",
    "df.select(concat('day', lit(' '), 'time')).show(5)"
   ]
  },
  {
   "cell_type": "code",
   "execution_count": 30,
   "metadata": {},
   "outputs": [
    {
     "name": "stdout",
     "output_type": "stream",
     "text": [
      "+----+\n",
      "|time|\n",
      "+----+\n",
      "|null|\n",
      "|null|\n",
      "|null|\n",
      "|null|\n",
      "|null|\n",
      "+----+\n",
      "only showing top 5 rows\n",
      "\n"
     ]
    }
   ],
   "source": [
    "#changing time to int value\n",
    "df.select(df.time.cast('int')).show(5)\n",
    "\n",
    "#gives nulls because it cannot change a string to an int"
   ]
  },
  {
   "cell_type": "code",
   "execution_count": 31,
   "metadata": {},
   "outputs": [
    {
     "name": "stdout",
     "output_type": "stream",
     "text": [
      "+----+\n",
      "|size|\n",
      "+----+\n",
      "|   2|\n",
      "|   3|\n",
      "|   3|\n",
      "|   2|\n",
      "|   4|\n",
      "+----+\n",
      "only showing top 5 rows\n",
      "\n"
     ]
    }
   ],
   "source": [
    "#change size to string value, was int\n",
    "df.select(df.size.cast('string')).show(5)"
   ]
  },
  {
   "cell_type": "markdown",
   "metadata": {},
   "source": [
    "- **.cast() = transformation**\n",
    "- **.show() = action**\n",
    "- **.count() = action**"
   ]
  },
  {
   "cell_type": "code",
   "execution_count": 32,
   "metadata": {},
   "outputs": [],
   "source": [
    "#reassign existing df to show percent column\n",
    "df = df.select(\n",
    "    '*',\n",
    "    (df.tip / df.total_bill).alias('tip_pct')\n",
    ")"
   ]
  },
  {
   "cell_type": "code",
   "execution_count": 33,
   "metadata": {},
   "outputs": [
    {
     "name": "stdout",
     "output_type": "stream",
     "text": [
      "+----------+----+------+------+---+------+----+-------------------+\n",
      "|total_bill| tip|   sex|smoker|day|  time|size|            tip_pct|\n",
      "+----------+----+------+------+---+------+----+-------------------+\n",
      "|     16.99|1.01|Female|    No|Sun|Dinner|   2|0.05944673337257211|\n",
      "|     10.34|1.66|  Male|    No|Sun|Dinner|   3|0.16054158607350097|\n",
      "|     21.01| 3.5|  Male|    No|Sun|Dinner|   3|0.16658733936220846|\n",
      "|     23.68|3.31|  Male|    No|Sun|Dinner|   2| 0.1397804054054054|\n",
      "|     24.59|3.61|Female|    No|Sun|Dinner|   4|0.14680764538430255|\n",
      "|     25.29|4.71|  Male|    No|Sun|Dinner|   4|0.18623962040332148|\n",
      "|      8.77| 2.0|  Male|    No|Sun|Dinner|   2|0.22805017103762829|\n",
      "|     26.88|3.12|  Male|    No|Sun|Dinner|   4|0.11607142857142858|\n",
      "|     15.04|1.96|  Male|    No|Sun|Dinner|   2|0.13031914893617022|\n",
      "|     14.78|3.23|  Male|    No|Sun|Dinner|   2| 0.2185385656292287|\n",
      "|     10.27|1.71|  Male|    No|Sun|Dinner|   2| 0.1665043816942551|\n",
      "|     35.26| 5.0|Female|    No|Sun|Dinner|   4|0.14180374361883155|\n",
      "|     15.42|1.57|  Male|    No|Sun|Dinner|   2|0.10181582360570687|\n",
      "|     18.43| 3.0|  Male|    No|Sun|Dinner|   4|0.16277807921866522|\n",
      "|     14.83|3.02|Female|    No|Sun|Dinner|   2|0.20364126770060686|\n",
      "|     21.58|3.92|  Male|    No|Sun|Dinner|   2|0.18164967562557924|\n",
      "|     10.33|1.67|Female|    No|Sun|Dinner|   3| 0.1616650532429816|\n",
      "|     16.29|3.71|  Male|    No|Sun|Dinner|   3|0.22774708410067526|\n",
      "|     16.97| 3.5|Female|    No|Sun|Dinner|   3|0.20624631703005306|\n",
      "|     20.65|3.35|  Male|    No|Sat|Dinner|   3|0.16222760290556903|\n",
      "+----------+----+------+------+---+------+----+-------------------+\n",
      "only showing top 20 rows\n",
      "\n"
     ]
    }
   ],
   "source": [
    "df.show()"
   ]
  },
  {
   "cell_type": "markdown",
   "metadata": {},
   "source": [
    "<hr style=\"border:2px solid black\"> </hr>"
   ]
  },
  {
   "cell_type": "markdown",
   "metadata": {},
   "source": [
    "## When/ Otherwise"
   ]
  },
  {
   "cell_type": "markdown",
   "metadata": {},
   "source": [
    "Similar to:\n",
    "- if/else in excel\n",
    "- np.where in Numpy\n"
   ]
  },
  {
   "cell_type": "code",
   "execution_count": 34,
   "metadata": {},
   "outputs": [
    {
     "name": "stdout",
     "output_type": "stream",
     "text": [
      "+-------------------+\n",
      "|            tip_pct|\n",
      "+-------------------+\n",
      "|0.05944673337257211|\n",
      "|0.16054158607350097|\n",
      "|0.16658733936220846|\n",
      "| 0.1397804054054054|\n",
      "|0.14680764538430255|\n",
      "+-------------------+\n",
      "only showing top 5 rows\n",
      "\n"
     ]
    }
   ],
   "source": [
    "df.select(\n",
    "    'tip_pct',\n",
    ").show(5)"
   ]
  },
  {
   "cell_type": "code",
   "execution_count": 35,
   "metadata": {},
   "outputs": [
    {
     "data": {
      "text/plain": [
       "Column<'CASE WHEN (tip_pct > 0.2) THEN good tip END'>"
      ]
     },
     "execution_count": 35,
     "metadata": {},
     "output_type": "execute_result"
    }
   ],
   "source": [
    "#when tip is greater then 20% = good tip\n",
    "when(df.tip_pct > .2, 'good tip')"
   ]
  },
  {
   "cell_type": "code",
   "execution_count": 37,
   "metadata": {},
   "outputs": [
    {
     "name": "stdout",
     "output_type": "stream",
     "text": [
      "+-------------------+--------+\n",
      "|            tip_pct|tip_desc|\n",
      "+-------------------+--------+\n",
      "|0.05944673337257211|    null|\n",
      "|0.16054158607350097|    null|\n",
      "|0.16658733936220846|    null|\n",
      "| 0.1397804054054054|    null|\n",
      "|0.14680764538430255|    null|\n",
      "|0.18623962040332148|    null|\n",
      "|0.22805017103762829|good tip|\n",
      "|0.11607142857142858|    null|\n",
      "|0.13031914893617022|    null|\n",
      "| 0.2185385656292287|good tip|\n",
      "| 0.1665043816942551|    null|\n",
      "|0.14180374361883155|    null|\n",
      "|0.10181582360570687|    null|\n",
      "|0.16277807921866522|    null|\n",
      "|0.20364126770060686|good tip|\n",
      "|0.18164967562557924|    null|\n",
      "| 0.1616650532429816|    null|\n",
      "|0.22774708410067526|good tip|\n",
      "|0.20624631703005306|good tip|\n",
      "|0.16222760290556903|    null|\n",
      "|0.22767857142857142|good tip|\n",
      "|0.13553474618038444|    null|\n",
      "|0.14140773620798985|    null|\n",
      "|0.19228817858954844|    null|\n",
      "|0.16044399596367306|    null|\n",
      "+-------------------+--------+\n",
      "only showing top 25 rows\n",
      "\n"
     ]
    }
   ],
   "source": [
    "#nulls = do not satisfy greater than 20%\n",
    "df.select(\n",
    "    'tip_pct',\n",
    "    (when(df.tip_pct > .2, 'good tip')\n",
    "     .alias('tip_desc'))\n",
    ").show(25)"
   ]
  },
  {
   "cell_type": "code",
   "execution_count": 38,
   "metadata": {},
   "outputs": [
    {
     "name": "stdout",
     "output_type": "stream",
     "text": [
      "+-------------------+------------+\n",
      "|            tip_pct|    tip_desc|\n",
      "+-------------------+------------+\n",
      "|0.05944673337257211|not good tip|\n",
      "|0.16054158607350097|not good tip|\n",
      "|0.16658733936220846|not good tip|\n",
      "| 0.1397804054054054|not good tip|\n",
      "|0.14680764538430255|not good tip|\n",
      "|0.18623962040332148|not good tip|\n",
      "|0.22805017103762829|    good tip|\n",
      "|0.11607142857142858|not good tip|\n",
      "|0.13031914893617022|not good tip|\n",
      "| 0.2185385656292287|    good tip|\n",
      "| 0.1665043816942551|not good tip|\n",
      "|0.14180374361883155|not good tip|\n",
      "|0.10181582360570687|not good tip|\n",
      "|0.16277807921866522|not good tip|\n",
      "|0.20364126770060686|    good tip|\n",
      "|0.18164967562557924|not good tip|\n",
      "| 0.1616650532429816|not good tip|\n",
      "|0.22774708410067526|    good tip|\n",
      "|0.20624631703005306|    good tip|\n",
      "|0.16222760290556903|not good tip|\n",
      "|0.22767857142857142|    good tip|\n",
      "|0.13553474618038444|not good tip|\n",
      "|0.14140773620798985|not good tip|\n",
      "|0.19228817858954844|not good tip|\n",
      "|0.16044399596367306|not good tip|\n",
      "+-------------------+------------+\n",
      "only showing top 25 rows\n",
      "\n"
     ]
    }
   ],
   "source": [
    "#use .otherwise() to get rid of nulls\n",
    "#tip greater then 20% = good tip\n",
    "#other wise = not good tip\n",
    "#rename column\n",
    "df.select(\n",
    "    'tip_pct',\n",
    "    (when(df.tip_pct > .2, 'good tip')\n",
    "     .otherwise('not good tip')\n",
    "     .alias('tip_desc'))\n",
    ").show(25)"
   ]
  },
  {
   "cell_type": "markdown",
   "metadata": {},
   "source": [
    "<hr style=\"border:2px solid black\"> </hr>"
   ]
  },
  {
   "cell_type": "markdown",
   "metadata": {},
   "source": [
    "## Regex"
   ]
  },
  {
   "cell_type": "markdown",
   "metadata": {},
   "source": [
    "- extract = pull piece out of regex\n",
    "- replace = replace a piece of a sting"
   ]
  },
  {
   "cell_type": "code",
   "execution_count": 39,
   "metadata": {},
   "outputs": [
    {
     "name": "stdout",
     "output_type": "stream",
     "text": [
      "+------+------------+-----------------------------------+\n",
      "|  time|first_letter|regexp_replace(time, [aeiou], X, 1)|\n",
      "+------+------------+-----------------------------------+\n",
      "|Dinner|           D|                             DXnnXr|\n",
      "|Dinner|           D|                             DXnnXr|\n",
      "|Dinner|           D|                             DXnnXr|\n",
      "|Dinner|           D|                             DXnnXr|\n",
      "|Dinner|           D|                             DXnnXr|\n",
      "+------+------------+-----------------------------------+\n",
      "only showing top 5 rows\n",
      "\n"
     ]
    }
   ],
   "source": [
    "#using 'time' column\n",
    "#pulls out first letter and puts it into a new column called 'first_letter'\n",
    "#replaces any vowel with X\n",
    "\n",
    "df.select(\n",
    "    'time',\n",
    "    regexp_extract('time', r'(\\w).*', 1).alias('first_letter'),\n",
    "    regexp_replace('time', r'[aeiou]', 'X')\n",
    ").show(5)"
   ]
  },
  {
   "cell_type": "code",
   "execution_count": 42,
   "metadata": {},
   "outputs": [
    {
     "name": "stdout",
     "output_type": "stream",
     "text": [
      "+------+------------+----------------------------------+\n",
      "|   sex|first_letter|regexp_replace(sex, [aeiou], -, 1)|\n",
      "+------+------------+----------------------------------+\n",
      "|Female|           F|                            F-m-l-|\n",
      "|  Male|           M|                              M-l-|\n",
      "|  Male|           M|                              M-l-|\n",
      "|  Male|           M|                              M-l-|\n",
      "|Female|           F|                            F-m-l-|\n",
      "+------+------------+----------------------------------+\n",
      "only showing top 5 rows\n",
      "\n"
     ]
    }
   ],
   "source": [
    "#using 'sex' only\n",
    "#extract first letter\n",
    "#replace vowels with -\n",
    "df.select(\n",
    "    'sex',\n",
    "    regexp_extract('sex', r'(\\w).*', 1).alias('first_letter'),\n",
    "    regexp_replace('sex', r'[aeiou]', '-')\n",
    ").show(5)"
   ]
  },
  {
   "cell_type": "markdown",
   "metadata": {},
   "source": [
    "<hr style=\"border:2px solid black\"> </hr>"
   ]
  },
  {
   "cell_type": "markdown",
   "metadata": {},
   "source": [
    "## Transforming Rows"
   ]
  },
  {
   "cell_type": "code",
   "execution_count": 43,
   "metadata": {},
   "outputs": [
    {
     "name": "stdout",
     "output_type": "stream",
     "text": [
      "+----------+----+------+------+---+------+----+-------------------+\n",
      "|total_bill| tip|   sex|smoker|day|  time|size|            tip_pct|\n",
      "+----------+----+------+------+---+------+----+-------------------+\n",
      "|     16.99|1.01|Female|    No|Sun|Dinner|   2|0.05944673337257211|\n",
      "|     10.34|1.66|  Male|    No|Sun|Dinner|   3|0.16054158607350097|\n",
      "|     21.01| 3.5|  Male|    No|Sun|Dinner|   3|0.16658733936220846|\n",
      "|     23.68|3.31|  Male|    No|Sun|Dinner|   2| 0.1397804054054054|\n",
      "|     24.59|3.61|Female|    No|Sun|Dinner|   4|0.14680764538430255|\n",
      "|     25.29|4.71|  Male|    No|Sun|Dinner|   4|0.18623962040332148|\n",
      "|      8.77| 2.0|  Male|    No|Sun|Dinner|   2|0.22805017103762829|\n",
      "|     26.88|3.12|  Male|    No|Sun|Dinner|   4|0.11607142857142858|\n",
      "|     15.04|1.96|  Male|    No|Sun|Dinner|   2|0.13031914893617022|\n",
      "|     14.78|3.23|  Male|    No|Sun|Dinner|   2| 0.2185385656292287|\n",
      "|     10.27|1.71|  Male|    No|Sun|Dinner|   2| 0.1665043816942551|\n",
      "|     35.26| 5.0|Female|    No|Sun|Dinner|   4|0.14180374361883155|\n",
      "|     15.42|1.57|  Male|    No|Sun|Dinner|   2|0.10181582360570687|\n",
      "|     18.43| 3.0|  Male|    No|Sun|Dinner|   4|0.16277807921866522|\n",
      "|     14.83|3.02|Female|    No|Sun|Dinner|   2|0.20364126770060686|\n",
      "|     21.58|3.92|  Male|    No|Sun|Dinner|   2|0.18164967562557924|\n",
      "|     10.33|1.67|Female|    No|Sun|Dinner|   3| 0.1616650532429816|\n",
      "|     16.29|3.71|  Male|    No|Sun|Dinner|   3|0.22774708410067526|\n",
      "|     16.97| 3.5|Female|    No|Sun|Dinner|   3|0.20624631703005306|\n",
      "|     20.65|3.35|  Male|    No|Sat|Dinner|   3|0.16222760290556903|\n",
      "+----------+----+------+------+---+------+----+-------------------+\n",
      "only showing top 20 rows\n",
      "\n"
     ]
    }
   ],
   "source": [
    "df.show()"
   ]
  },
  {
   "cell_type": "markdown",
   "metadata": {},
   "source": [
    "<hr style=\"border:2px solid black\"> </hr>"
   ]
  },
  {
   "cell_type": "markdown",
   "metadata": {},
   "source": [
    "## Sorting\n",
    "- .orderBy\n",
    "- .sort\n",
    "<br>\n",
    "\n",
    "- sorting is VERY expensive\n",
    "- use as LAST STEP or on subset only\n",
    "- can specify if you want Nulls first or last"
   ]
  },
  {
   "cell_type": "code",
   "execution_count": 44,
   "metadata": {},
   "outputs": [
    {
     "name": "stdout",
     "output_type": "stream",
     "text": [
      "+----------+----+------+------+----+------+----+-------------------+\n",
      "|total_bill| tip|   sex|smoker| day|  time|size|            tip_pct|\n",
      "+----------+----+------+------+----+------+----+-------------------+\n",
      "|      3.07| 1.0|Female|   Yes| Sat|Dinner|   1|0.32573289902280134|\n",
      "|      5.75| 1.0|Female|   Yes| Fri|Dinner|   2|0.17391304347826086|\n",
      "|      7.25|5.15|  Male|   Yes| Sun|Dinner|   2|  0.710344827586207|\n",
      "|      7.25| 1.0|Female|    No| Sat|Dinner|   1|0.13793103448275862|\n",
      "|      7.51| 2.0|  Male|    No|Thur| Lunch|   2| 0.2663115845539281|\n",
      "|      7.56|1.44|  Male|    No|Thur| Lunch|   2|0.19047619047619047|\n",
      "|      7.74|1.44|  Male|   Yes| Sat|Dinner|   2|0.18604651162790697|\n",
      "|      8.35| 1.5|Female|    No|Thur| Lunch|   2|0.17964071856287425|\n",
      "|      8.51|1.25|Female|    No|Thur| Lunch|   2|0.14688601645123384|\n",
      "|      8.52|1.48|  Male|    No|Thur| Lunch|   2|0.17370892018779344|\n",
      "|      8.58|1.92|  Male|   Yes| Fri| Lunch|   1|0.22377622377622378|\n",
      "|      8.77| 2.0|  Male|    No| Sun|Dinner|   2|0.22805017103762829|\n",
      "|      9.55|1.45|  Male|    No| Sat|Dinner|   2| 0.1518324607329843|\n",
      "|       9.6| 4.0|Female|   Yes| Sun|Dinner|   2| 0.4166666666666667|\n",
      "|      9.68|1.32|  Male|    No| Sun|Dinner|   2|0.13636363636363638|\n",
      "|      9.78|1.73|  Male|    No|Thur| Lunch|   2| 0.1768916155419223|\n",
      "|      9.94|1.56|  Male|    No| Sun|Dinner|   2|0.15694164989939638|\n",
      "|     10.07|1.25|  Male|    No| Sat|Dinner|   2|0.12413108242303872|\n",
      "|     10.07|1.83|Female|    No|Thur| Lunch|   1| 0.1817279046673287|\n",
      "|     10.09| 2.0|Female|   Yes| Fri| Lunch|   2|0.19821605550049554|\n",
      "+----------+----+------+------+----+------+----+-------------------+\n",
      "only showing top 20 rows\n",
      "\n"
     ]
    }
   ],
   "source": [
    "#order by total_bill - smallest to largest\n",
    "df.orderBy(df.total_bill).show()"
   ]
  },
  {
   "cell_type": "code",
   "execution_count": 45,
   "metadata": {},
   "outputs": [
    {
     "name": "stdout",
     "output_type": "stream",
     "text": [
      "+----------+----+------+------+---+------+----+-------------------+\n",
      "|total_bill| tip|   sex|smoker|day|  time|size|            tip_pct|\n",
      "+----------+----+------+------+---+------+----+-------------------+\n",
      "|      8.58|1.92|  Male|   Yes|Fri| Lunch|   1|0.22377622377622378|\n",
      "|     16.27| 2.5|Female|   Yes|Fri| Lunch|   2|0.15365703749231716|\n",
      "|     22.75|3.25|Female|    No|Fri|Dinner|   2|0.14285714285714285|\n",
      "|     13.42|1.58|  Male|   Yes|Fri| Lunch|   2|0.11773472429210134|\n",
      "|     16.32| 4.3|Female|   Yes|Fri|Dinner|   2|0.26348039215686275|\n",
      "|     27.28| 4.0|  Male|   Yes|Fri|Dinner|   2|0.14662756598240467|\n",
      "|     21.01| 3.0|  Male|   Yes|Fri|Dinner|   2| 0.1427891480247501|\n",
      "|     12.46| 1.5|  Male|    No|Fri|Dinner|   2| 0.1203852327447833|\n",
      "|     12.16| 2.2|  Male|   Yes|Fri| Lunch|   2|0.18092105263157895|\n",
      "|     10.09| 2.0|Female|   Yes|Fri| Lunch|   2|0.19821605550049554|\n",
      "|     13.42|3.48|Female|   Yes|Fri| Lunch|   2| 0.2593144560357675|\n",
      "|     28.97| 3.0|  Male|   Yes|Fri|Dinner|   2|0.10355540214014498|\n",
      "|     15.38| 3.0|Female|   Yes|Fri|Dinner|   2|0.19505851755526657|\n",
      "|      5.75| 1.0|Female|   Yes|Fri|Dinner|   2|0.17391304347826086|\n",
      "|     12.03| 1.5|  Male|   Yes|Fri|Dinner|   2|0.12468827930174564|\n",
      "|     22.49| 3.5|  Male|    No|Fri|Dinner|   2|0.15562472209871056|\n",
      "|     11.35| 2.5|Female|   Yes|Fri|Dinner|   2|0.22026431718061676|\n",
      "|     15.98| 3.0|Female|    No|Fri| Lunch|   3|0.18773466833541927|\n",
      "|     40.17|4.73|  Male|   Yes|Fri|Dinner|   4| 0.1177495643515061|\n",
      "|      7.25| 1.0|Female|    No|Sat|Dinner|   1|0.13793103448275862|\n",
      "+----------+----+------+------+---+------+----+-------------------+\n",
      "only showing top 20 rows\n",
      "\n"
     ]
    }
   ],
   "source": [
    "#sort by day then size\n",
    "df.sort(df.day, df.size).show()"
   ]
  },
  {
   "cell_type": "code",
   "execution_count": 46,
   "metadata": {},
   "outputs": [],
   "source": [
    "from pyspark.sql.functions import asc, desc, col"
   ]
  },
  {
   "cell_type": "code",
   "execution_count": 47,
   "metadata": {},
   "outputs": [
    {
     "name": "stdout",
     "output_type": "stream",
     "text": [
      "+----------+----+------+------+---+------+----+-------------------+\n",
      "|total_bill| tip|   sex|smoker|day|  time|size|            tip_pct|\n",
      "+----------+----+------+------+---+------+----+-------------------+\n",
      "|     40.17|4.73|  Male|   Yes|Fri|Dinner|   4| 0.1177495643515061|\n",
      "|     22.49| 3.5|  Male|    No|Fri|Dinner|   2|0.15562472209871056|\n",
      "|      5.75| 1.0|Female|   Yes|Fri|Dinner|   2|0.17391304347826086|\n",
      "|     11.35| 2.5|Female|   Yes|Fri|Dinner|   2|0.22026431718061676|\n",
      "|     15.38| 3.0|Female|   Yes|Fri|Dinner|   2|0.19505851755526657|\n",
      "|     22.75|3.25|Female|    No|Fri|Dinner|   2|0.14285714285714285|\n",
      "|     27.28| 4.0|  Male|   Yes|Fri|Dinner|   2|0.14662756598240467|\n",
      "|     28.97| 3.0|  Male|   Yes|Fri|Dinner|   2|0.10355540214014498|\n",
      "|     12.03| 1.5|  Male|   Yes|Fri|Dinner|   2|0.12468827930174564|\n",
      "|     21.01| 3.0|  Male|   Yes|Fri|Dinner|   2| 0.1427891480247501|\n",
      "|     16.32| 4.3|Female|   Yes|Fri|Dinner|   2|0.26348039215686275|\n",
      "|     12.46| 1.5|  Male|    No|Fri|Dinner|   2| 0.1203852327447833|\n",
      "|     15.98| 3.0|Female|    No|Fri| Lunch|   3|0.18773466833541927|\n",
      "|     13.42|3.48|Female|   Yes|Fri| Lunch|   2| 0.2593144560357675|\n",
      "|     10.09| 2.0|Female|   Yes|Fri| Lunch|   2|0.19821605550049554|\n",
      "|     12.16| 2.2|  Male|   Yes|Fri| Lunch|   2|0.18092105263157895|\n",
      "|     13.42|1.58|  Male|   Yes|Fri| Lunch|   2|0.11773472429210134|\n",
      "|     16.27| 2.5|Female|   Yes|Fri| Lunch|   2|0.15365703749231716|\n",
      "|      8.58|1.92|  Male|   Yes|Fri| Lunch|   1|0.22377622377622378|\n",
      "|     28.15| 3.0|  Male|   Yes|Sat|Dinner|   5|0.10657193605683837|\n",
      "+----------+----+------+------+---+------+----+-------------------+\n",
      "only showing top 20 rows\n",
      "\n"
     ]
    }
   ],
   "source": [
    "#sort by day, then by time (a-z), then size (largest to smallest)\n",
    "df.sort(df.day, asc('time'), desc('size')).show()"
   ]
  },
  {
   "cell_type": "code",
   "execution_count": 48,
   "metadata": {},
   "outputs": [
    {
     "data": {
      "text/plain": [
       "Column<'size ASC NULLS FIRST'>"
      ]
     },
     "execution_count": 48,
     "metadata": {},
     "output_type": "execute_result"
    }
   ],
   "source": [
    "#use col function- nulls first\n",
    "col('size').asc()"
   ]
  },
  {
   "cell_type": "code",
   "execution_count": null,
   "metadata": {},
   "outputs": [],
   "source": [
    "#"
   ]
  },
  {
   "cell_type": "code",
   "execution_count": 49,
   "metadata": {},
   "outputs": [
    {
     "name": "stdout",
     "output_type": "stream",
     "text": [
      "+----------+----+------+------+----+------+----+-------------------+\n",
      "|total_bill| tip|   sex|smoker| day|  time|size|            tip_pct|\n",
      "+----------+----+------+------+----+------+----+-------------------+\n",
      "|     48.17| 5.0|  Male|    No| Sun|Dinner|   6|0.10379904504878555|\n",
      "|      34.3| 6.7|  Male|    No|Thur| Lunch|   6|0.19533527696793004|\n",
      "|     27.05| 5.0|Female|    No|Thur| Lunch|   6|0.18484288354898337|\n",
      "|      29.8| 4.2|Female|    No|Thur| Lunch|   6|0.14093959731543623|\n",
      "|     20.69| 5.0|  Male|    No| Sun|Dinner|   5| 0.2416626389560174|\n",
      "|     29.85|5.14|Female|    No| Sun|Dinner|   5| 0.1721943048576214|\n",
      "|     28.15| 3.0|  Male|   Yes| Sat|Dinner|   5|0.10657193605683837|\n",
      "|     30.46| 2.0|  Male|   Yes| Sun|Dinner|   5|0.06565988181221273|\n",
      "|     41.19| 5.0|  Male|    No|Thur| Lunch|   5|0.12138868657441128|\n",
      "|     18.35| 2.5|  Male|    No| Sat|Dinner|   4|0.13623978201634876|\n",
      "|     34.81| 5.2|Female|    No| Sun|Dinner|   4|0.14938236139040506|\n",
      "|     25.29|4.71|  Male|    No| Sun|Dinner|   4|0.18623962040332148|\n",
      "|     39.42|7.58|  Male|    No| Sat|Dinner|   4|0.19228817858954844|\n",
      "|     24.59|3.61|Female|    No| Sun|Dinner|   4|0.14680764538430255|\n",
      "|     17.81|2.34|  Male|    No| Sat|Dinner|   4|0.13138686131386862|\n",
      "|     25.56|4.34|  Male|    No| Sun|Dinner|   4| 0.1697965571205008|\n",
      "|      30.4| 5.6|  Male|    No| Sun|Dinner|   4|0.18421052631578946|\n",
      "|     35.26| 5.0|Female|    No| Sun|Dinner|   4|0.14180374361883155|\n",
      "|     48.27|6.73|  Male|    No| Sat|Dinner|   4|0.13942407292314066|\n",
      "|      32.4| 6.0|  Male|    No| Sun|Dinner|   4| 0.1851851851851852|\n",
      "+----------+----+------+------+----+------+----+-------------------+\n",
      "only showing top 20 rows\n",
      "\n"
     ]
    }
   ],
   "source": [
    "#sort by size columns (desc:largest first) \n",
    "#then by time column (ascending: a-z)\n",
    "df.sort(col('size').desc(), col('time')).show()"
   ]
  },
  {
   "cell_type": "markdown",
   "metadata": {},
   "source": [
    "<hr style=\"border:2px solid black\"> </hr>"
   ]
  },
  {
   "cell_type": "markdown",
   "metadata": {},
   "source": [
    "## Filtering"
   ]
  },
  {
   "cell_type": "code",
   "execution_count": 50,
   "metadata": {},
   "outputs": [
    {
     "name": "stdout",
     "output_type": "stream",
     "text": [
      "+----------+----+------+------+---+------+----+-------------------+\n",
      "|total_bill| tip|   sex|smoker|day|  time|size|            tip_pct|\n",
      "+----------+----+------+------+---+------+----+-------------------+\n",
      "|     16.99|1.01|Female|    No|Sun|Dinner|   2|0.05944673337257211|\n",
      "|     10.34|1.66|  Male|    No|Sun|Dinner|   3|0.16054158607350097|\n",
      "|     21.01| 3.5|  Male|    No|Sun|Dinner|   3|0.16658733936220846|\n",
      "|     23.68|3.31|  Male|    No|Sun|Dinner|   2| 0.1397804054054054|\n",
      "|     24.59|3.61|Female|    No|Sun|Dinner|   4|0.14680764538430255|\n",
      "|      8.77| 2.0|  Male|    No|Sun|Dinner|   2|0.22805017103762829|\n",
      "|     26.88|3.12|  Male|    No|Sun|Dinner|   4|0.11607142857142858|\n",
      "|     15.04|1.96|  Male|    No|Sun|Dinner|   2|0.13031914893617022|\n",
      "|     14.78|3.23|  Male|    No|Sun|Dinner|   2| 0.2185385656292287|\n",
      "|     10.27|1.71|  Male|    No|Sun|Dinner|   2| 0.1665043816942551|\n",
      "|     15.42|1.57|  Male|    No|Sun|Dinner|   2|0.10181582360570687|\n",
      "|     18.43| 3.0|  Male|    No|Sun|Dinner|   4|0.16277807921866522|\n",
      "|     14.83|3.02|Female|    No|Sun|Dinner|   2|0.20364126770060686|\n",
      "|     21.58|3.92|  Male|    No|Sun|Dinner|   2|0.18164967562557924|\n",
      "|     10.33|1.67|Female|    No|Sun|Dinner|   3| 0.1616650532429816|\n",
      "|     16.29|3.71|  Male|    No|Sun|Dinner|   3|0.22774708410067526|\n",
      "|     16.97| 3.5|Female|    No|Sun|Dinner|   3|0.20624631703005306|\n",
      "|     20.65|3.35|  Male|    No|Sat|Dinner|   3|0.16222760290556903|\n",
      "|     20.29|2.75|Female|    No|Sat|Dinner|   2|0.13553474618038444|\n",
      "|     15.77|2.23|Female|    No|Sat|Dinner|   2|0.14140773620798985|\n",
      "+----------+----+------+------+---+------+----+-------------------+\n",
      "only showing top 20 rows\n",
      "\n"
     ]
    }
   ],
   "source": [
    "#df[df.tip <4] - in pandas\n",
    "df.where(df.tip < 4).show() #in spark"
   ]
  },
  {
   "cell_type": "code",
   "execution_count": 51,
   "metadata": {},
   "outputs": [
    {
     "name": "stdout",
     "output_type": "stream",
     "text": [
      "+----------+----+------+------+---+------+----+-------------------+\n",
      "|total_bill| tip|   sex|smoker|day|  time|size|            tip_pct|\n",
      "+----------+----+------+------+---+------+----+-------------------+\n",
      "|     16.99|1.01|Female|    No|Sun|Dinner|   2|0.05944673337257211|\n",
      "|     10.34|1.66|  Male|    No|Sun|Dinner|   3|0.16054158607350097|\n",
      "|     21.01| 3.5|  Male|    No|Sun|Dinner|   3|0.16658733936220846|\n",
      "|     23.68|3.31|  Male|    No|Sun|Dinner|   2| 0.1397804054054054|\n",
      "|     24.59|3.61|Female|    No|Sun|Dinner|   4|0.14680764538430255|\n",
      "|      8.77| 2.0|  Male|    No|Sun|Dinner|   2|0.22805017103762829|\n",
      "|     26.88|3.12|  Male|    No|Sun|Dinner|   4|0.11607142857142858|\n",
      "|     15.04|1.96|  Male|    No|Sun|Dinner|   2|0.13031914893617022|\n",
      "|     14.78|3.23|  Male|    No|Sun|Dinner|   2| 0.2185385656292287|\n",
      "|     10.27|1.71|  Male|    No|Sun|Dinner|   2| 0.1665043816942551|\n",
      "|     15.42|1.57|  Male|    No|Sun|Dinner|   2|0.10181582360570687|\n",
      "|     18.43| 3.0|  Male|    No|Sun|Dinner|   4|0.16277807921866522|\n",
      "|     14.83|3.02|Female|    No|Sun|Dinner|   2|0.20364126770060686|\n",
      "|     21.58|3.92|  Male|    No|Sun|Dinner|   2|0.18164967562557924|\n",
      "|     10.33|1.67|Female|    No|Sun|Dinner|   3| 0.1616650532429816|\n",
      "|     16.29|3.71|  Male|    No|Sun|Dinner|   3|0.22774708410067526|\n",
      "|     16.97| 3.5|Female|    No|Sun|Dinner|   3|0.20624631703005306|\n",
      "|     20.65|3.35|  Male|    No|Sat|Dinner|   3|0.16222760290556903|\n",
      "|     20.29|2.75|Female|    No|Sat|Dinner|   2|0.13553474618038444|\n",
      "|     15.77|2.23|Female|    No|Sat|Dinner|   2|0.14140773620798985|\n",
      "+----------+----+------+------+---+------+----+-------------------+\n",
      "only showing top 20 rows\n",
      "\n"
     ]
    }
   ],
   "source": [
    "#where tip is less than 4\n",
    "mask = df.tip < 4\n",
    "df.where(mask).show()"
   ]
  },
  {
   "cell_type": "markdown",
   "metadata": {},
   "source": [
    "### OR : multiple filters at onces"
   ]
  },
  {
   "cell_type": "code",
   "execution_count": 52,
   "metadata": {},
   "outputs": [
    {
     "name": "stdout",
     "output_type": "stream",
     "text": [
      "+----------+----+------+------+----+------+----+-------------------+\n",
      "|total_bill| tip|   sex|smoker| day|  time|size|            tip_pct|\n",
      "+----------+----+------+------+----+------+----+-------------------+\n",
      "|      3.07| 1.0|Female|   Yes| Sat|Dinner|   1|0.32573289902280134|\n",
      "|      12.6| 1.0|  Male|   Yes| Sat|Dinner|   2|0.07936507936507936|\n",
      "|      7.25| 1.0|Female|    No| Sat|Dinner|   1|0.13793103448275862|\n",
      "|      5.75| 1.0|Female|   Yes| Fri|Dinner|   2|0.17391304347826086|\n",
      "|     16.99|1.01|Female|    No| Sun|Dinner|   2|0.05944673337257211|\n",
      "|      12.9| 1.1|Female|   Yes| Sat|Dinner|   2|0.08527131782945736|\n",
      "|     32.83|1.17|  Male|   Yes| Sat|Dinner|   2|0.03563813585135547|\n",
      "|     10.51|1.25|  Male|    No| Sat|Dinner|   2|0.11893434823977164|\n",
      "|     10.07|1.25|  Male|    No| Sat|Dinner|   2|0.12413108242303872|\n",
      "|      8.51|1.25|Female|    No|Thur| Lunch|   2|0.14688601645123384|\n",
      "|      9.68|1.32|  Male|    No| Sun|Dinner|   2|0.13636363636363638|\n",
      "|     18.64|1.36|Female|    No|Thur| Lunch|   3|0.07296137339055794|\n",
      "|      7.56|1.44|  Male|    No|Thur| Lunch|   2|0.19047619047619047|\n",
      "|      7.74|1.44|  Male|   Yes| Sat|Dinner|   2|0.18604651162790697|\n",
      "|      9.55|1.45|  Male|    No| Sat|Dinner|   2| 0.1518324607329843|\n",
      "|     10.77|1.47|  Male|    No| Sat|Dinner|   2|0.13649025069637882|\n",
      "|      8.52|1.48|  Male|    No|Thur| Lunch|   2|0.17370892018779344|\n",
      "|     12.46| 1.5|  Male|    No| Fri|Dinner|   2| 0.1203852327447833|\n",
      "|      8.35| 1.5|Female|    No|Thur| Lunch|   2|0.17964071856287425|\n",
      "|     11.17| 1.5|Female|    No|Thur| Lunch|   2|0.13428827215756492|\n",
      "+----------+----+------+------+----+------+----+-------------------+\n",
      "only showing top 20 rows\n",
      "\n"
     ]
    }
   ],
   "source": [
    "#When meal time is dinner \n",
    "##OR \n",
    "#tip is less than/equal to 2\n",
    "#sort by tip (asc: smaller to larger)\n",
    "\n",
    "df.filter((df.time == \"Dinner\") | (df.tip <= 2)).sort('tip').show()"
   ]
  },
  {
   "cell_type": "markdown",
   "metadata": {},
   "source": [
    "### and : multiple filters at once"
   ]
  },
  {
   "cell_type": "code",
   "execution_count": 53,
   "metadata": {},
   "outputs": [
    {
     "name": "stdout",
     "output_type": "stream",
     "text": [
      "+----------+----+------+------+---+------+----+-------------------+\n",
      "|total_bill| tip|   sex|smoker|day|  time|size|            tip_pct|\n",
      "+----------+----+------+------+---+------+----+-------------------+\n",
      "|     38.01| 3.0|  Male|   Yes|Sat|Dinner|   4|0.07892659826361484|\n",
      "|     11.24|1.76|  Male|   Yes|Sat|Dinner|   2|0.15658362989323843|\n",
      "|     20.29|3.21|  Male|   Yes|Sat|Dinner|   2| 0.1582060128141942|\n",
      "|     13.81| 2.0|  Male|   Yes|Sat|Dinner|   2| 0.1448225923244026|\n",
      "|     11.02|1.98|  Male|   Yes|Sat|Dinner|   2|0.17967332123411978|\n",
      "|     18.29|3.76|  Male|   Yes|Sat|Dinner|   4|0.20557681793329688|\n",
      "|      3.07| 1.0|Female|   Yes|Sat|Dinner|   1|0.32573289902280134|\n",
      "|     15.01|2.09|  Male|   Yes|Sat|Dinner|   2|0.13924050632911392|\n",
      "|     26.86|3.14|Female|   Yes|Sat|Dinner|   2|0.11690245718540582|\n",
      "|     25.28| 5.0|Female|   Yes|Sat|Dinner|   2|0.19778481012658228|\n",
      "|     17.92|3.08|  Male|   Yes|Sat|Dinner|   2|           0.171875|\n",
      "|      44.3| 2.5|Female|   Yes|Sat|Dinner|   3|0.05643340857787811|\n",
      "|     22.42|3.48|Female|   Yes|Sat|Dinner|   2|0.15521855486173058|\n",
      "|     15.36|1.64|  Male|   Yes|Sat|Dinner|   2|0.10677083333333333|\n",
      "|     20.49|4.06|  Male|   Yes|Sat|Dinner|   2|0.19814543679843827|\n",
      "|     25.21|4.29|  Male|   Yes|Sat|Dinner|   2| 0.1701705672352241|\n",
      "|     14.31| 4.0|Female|   Yes|Sat|Dinner|   2| 0.2795248078266946|\n",
      "|     10.59|1.61|Female|   Yes|Sat|Dinner|   2|0.15203021718602455|\n",
      "|     10.63| 2.0|Female|   Yes|Sat|Dinner|   2|0.18814675446848542|\n",
      "|     50.81|10.0|  Male|   Yes|Sat|Dinner|   3|0.19681165124975397|\n",
      "+----------+----+------+------+---+------+----+-------------------+\n",
      "only showing top 20 rows\n",
      "\n"
     ]
    }
   ],
   "source": [
    "#using . where \n",
    "# must be smoker, must be on saturday\n",
    "df.where(df.smoker == \"Yes\").where(df.day == \"Sat\").show()"
   ]
  },
  {
   "cell_type": "markdown",
   "metadata": {},
   "source": [
    "<hr style=\"border:2px solid black\"> </hr>"
   ]
  },
  {
   "cell_type": "markdown",
   "metadata": {},
   "source": [
    "## Aggregating\n",
    "\n",
    "- .crosstab is just for counts, for other methods of summarizing groups, \n",
    "\n",
    "- use .groupBy (maybe in combination with .pivot) + .agg."
   ]
  },
  {
   "cell_type": "code",
   "execution_count": 54,
   "metadata": {},
   "outputs": [],
   "source": [
    "from pyspark.sql.functions import mean, min, max"
   ]
  },
  {
   "cell_type": "code",
   "execution_count": 56,
   "metadata": {},
   "outputs": [
    {
     "name": "stdout",
     "output_type": "stream",
     "text": [
      "+----------+----+------+------+---+------+----+-------------------+\n",
      "|total_bill| tip|   sex|smoker|day|  time|size|            tip_pct|\n",
      "+----------+----+------+------+---+------+----+-------------------+\n",
      "|     16.99|1.01|Female|    No|Sun|Dinner|   2|0.05944673337257211|\n",
      "|     10.34|1.66|  Male|    No|Sun|Dinner|   3|0.16054158607350097|\n",
      "|     21.01| 3.5|  Male|    No|Sun|Dinner|   3|0.16658733936220846|\n",
      "|     23.68|3.31|  Male|    No|Sun|Dinner|   2| 0.1397804054054054|\n",
      "|     24.59|3.61|Female|    No|Sun|Dinner|   4|0.14680764538430255|\n",
      "+----------+----+------+------+---+------+----+-------------------+\n",
      "only showing top 5 rows\n",
      "\n"
     ]
    }
   ],
   "source": [
    "df.show(5)"
   ]
  },
  {
   "cell_type": "code",
   "execution_count": 57,
   "metadata": {},
   "outputs": [
    {
     "name": "stdout",
     "output_type": "stream",
     "text": [
      "+------+------------------+\n",
      "|  time|          avg(tip)|\n",
      "+------+------------------+\n",
      "| Lunch|2.7280882352941176|\n",
      "|Dinner| 3.102670454545455|\n",
      "+------+------------------+\n",
      "\n"
     ]
    }
   ],
   "source": [
    "df.groupBy('time').agg(mean('tip')).show()"
   ]
  },
  {
   "cell_type": "code",
   "execution_count": 58,
   "metadata": {},
   "outputs": [
    {
     "name": "stdout",
     "output_type": "stream",
     "text": [
      "+------+--------+------------------+--------+\n",
      "|  time|min(tip)|          avg(tip)|max(tip)|\n",
      "+------+--------+------------------+--------+\n",
      "| Lunch|    1.25|2.7280882352941176|     6.7|\n",
      "|Dinner|     1.0| 3.102670454545455|    10.0|\n",
      "+------+--------+------------------+--------+\n",
      "\n"
     ]
    }
   ],
   "source": [
    "df.groupBy('time').agg(min('tip'), mean('tip'), max('tip')).show()"
   ]
  },
  {
   "cell_type": "code",
   "execution_count": 59,
   "metadata": {},
   "outputs": [
    {
     "name": "stdout",
     "output_type": "stream",
     "text": [
      "+------+------------------+\n",
      "|  time|           avg_tip|\n",
      "+------+------------------+\n",
      "| Lunch|2.7280882352941176|\n",
      "|Dinner| 3.102670454545455|\n",
      "+------+------------------+\n",
      "\n"
     ]
    }
   ],
   "source": [
    "df.groupBy('time').agg(mean('tip').alias('avg_tip')).show()"
   ]
  },
  {
   "cell_type": "code",
   "execution_count": 60,
   "metadata": {},
   "outputs": [
    {
     "name": "stdout",
     "output_type": "stream",
     "text": [
      "+------+----+------------------+\n",
      "|  time| day|   avg(total_bill)|\n",
      "+------+----+------------------+\n",
      "| Lunch|Thur|17.664754098360653|\n",
      "|Dinner|Thur|             18.78|\n",
      "| Lunch| Fri|12.845714285714285|\n",
      "|Dinner| Fri| 19.66333333333333|\n",
      "|Dinner| Sun|21.409999999999997|\n",
      "|Dinner| Sat|20.441379310344825|\n",
      "+------+----+------------------+\n",
      "\n"
     ]
    }
   ],
   "source": [
    "df.groupBy('time', 'day').agg(mean('total_bill')).show()"
   ]
  },
  {
   "cell_type": "code",
   "execution_count": 61,
   "metadata": {},
   "outputs": [
    {
     "name": "stdout",
     "output_type": "stream",
     "text": [
      "+--------+---+---+---+----+\n",
      "|time_day|Fri|Sat|Sun|Thur|\n",
      "+--------+---+---+---+----+\n",
      "|   Lunch|  7|  0|  0|  61|\n",
      "|  Dinner| 12| 87| 76|   1|\n",
      "+--------+---+---+---+----+\n",
      "\n"
     ]
    }
   ],
   "source": [
    "df.crosstab('time', 'day').show()"
   ]
  },
  {
   "cell_type": "code",
   "execution_count": 63,
   "metadata": {},
   "outputs": [
    {
     "name": "stdout",
     "output_type": "stream",
     "text": [
      "+------+----+------------------+\n",
      "|  time| day|   sum(total_bill)|\n",
      "+------+----+------------------+\n",
      "|Dinner| Fri|235.95999999999998|\n",
      "|Dinner| Sat|1778.3999999999996|\n",
      "|Dinner| Sun|1627.1599999999999|\n",
      "|Dinner|Thur|             18.78|\n",
      "| Lunch| Fri|             89.92|\n",
      "| Lunch|Thur|           1077.55|\n",
      "+------+----+------------------+\n",
      "\n"
     ]
    }
   ],
   "source": [
    "df.groupBy('time', 'day').agg(sum('total_bill')).sort('time','day').show()"
   ]
  },
  {
   "cell_type": "code",
   "execution_count": 64,
   "metadata": {},
   "outputs": [
    {
     "name": "stdout",
     "output_type": "stream",
     "text": [
      "+------+------------------+------------------+------------------+-------+\n",
      "|  time|               Fri|               Sat|               Sun|   Thur|\n",
      "+------+------------------+------------------+------------------+-------+\n",
      "| Lunch|             89.92|              null|              null|1077.55|\n",
      "|Dinner|235.95999999999998|1778.3999999999996|1627.1599999999999|  18.78|\n",
      "+------+------------------+------------------+------------------+-------+\n",
      "\n"
     ]
    }
   ],
   "source": [
    "#pivot the above table\n",
    "df.groupBy('time').pivot('day').agg(sum('total_bill')).show()"
   ]
  },
  {
   "cell_type": "code",
   "execution_count": 62,
   "metadata": {},
   "outputs": [
    {
     "name": "stdout",
     "output_type": "stream",
     "text": [
      "+------+------------------+------------------+------------------+------------------+\n",
      "|  time|               Fri|               Sat|               Sun|              Thur|\n",
      "+------+------------------+------------------+------------------+------------------+\n",
      "| Lunch|12.845714285714285|              null|              null|17.664754098360653|\n",
      "|Dinner| 19.66333333333333|20.441379310344825|21.409999999999997|             18.78|\n",
      "+------+------------------+------------------+------------------+------------------+\n",
      "\n"
     ]
    }
   ],
   "source": [
    "df.groupBy('time').pivot('day').agg(mean('total_bill')).show()"
   ]
  },
  {
   "cell_type": "markdown",
   "metadata": {},
   "source": [
    "<hr style=\"border:2px solid black\"> </hr>"
   ]
  },
  {
   "cell_type": "markdown",
   "metadata": {},
   "source": [
    "# Additional Features"
   ]
  },
  {
   "cell_type": "markdown",
   "metadata": {},
   "source": [
    "## Spark SQL\n",
    "- write a sql query, get back a DF"
   ]
  },
  {
   "cell_type": "code",
   "execution_count": 65,
   "metadata": {},
   "outputs": [],
   "source": [
    "#registers a sql table with the running spark\n",
    "df.createOrReplaceTempView('tips')"
   ]
  },
  {
   "cell_type": "code",
   "execution_count": 66,
   "metadata": {},
   "outputs": [
    {
     "name": "stdout",
     "output_type": "stream",
     "text": [
      "+----------+----+------+------+---+------+----+-------------------+\n",
      "|total_bill| tip|   sex|smoker|day|  time|size|            tip_pct|\n",
      "+----------+----+------+------+---+------+----+-------------------+\n",
      "|     16.99|1.01|Female|    No|Sun|Dinner|   2|0.05944673337257211|\n",
      "|     10.34|1.66|  Male|    No|Sun|Dinner|   3|0.16054158607350097|\n",
      "|     21.01| 3.5|  Male|    No|Sun|Dinner|   3|0.16658733936220846|\n",
      "|     23.68|3.31|  Male|    No|Sun|Dinner|   2| 0.1397804054054054|\n",
      "|     24.59|3.61|Female|    No|Sun|Dinner|   4|0.14680764538430255|\n",
      "|     25.29|4.71|  Male|    No|Sun|Dinner|   4|0.18623962040332148|\n",
      "|      8.77| 2.0|  Male|    No|Sun|Dinner|   2|0.22805017103762829|\n",
      "|     26.88|3.12|  Male|    No|Sun|Dinner|   4|0.11607142857142858|\n",
      "|     15.04|1.96|  Male|    No|Sun|Dinner|   2|0.13031914893617022|\n",
      "|     14.78|3.23|  Male|    No|Sun|Dinner|   2| 0.2185385656292287|\n",
      "|     10.27|1.71|  Male|    No|Sun|Dinner|   2| 0.1665043816942551|\n",
      "|     35.26| 5.0|Female|    No|Sun|Dinner|   4|0.14180374361883155|\n",
      "|     15.42|1.57|  Male|    No|Sun|Dinner|   2|0.10181582360570687|\n",
      "|     18.43| 3.0|  Male|    No|Sun|Dinner|   4|0.16277807921866522|\n",
      "|     14.83|3.02|Female|    No|Sun|Dinner|   2|0.20364126770060686|\n",
      "|     21.58|3.92|  Male|    No|Sun|Dinner|   2|0.18164967562557924|\n",
      "|     10.33|1.67|Female|    No|Sun|Dinner|   3| 0.1616650532429816|\n",
      "|     16.29|3.71|  Male|    No|Sun|Dinner|   3|0.22774708410067526|\n",
      "|     16.97| 3.5|Female|    No|Sun|Dinner|   3|0.20624631703005306|\n",
      "|     20.65|3.35|  Male|    No|Sat|Dinner|   3|0.16222760290556903|\n",
      "+----------+----+------+------+---+------+----+-------------------+\n",
      "only showing top 20 rows\n",
      "\n"
     ]
    }
   ],
   "source": [
    "spark.sql('''\n",
    "SELECT *\n",
    "FROM tips\n",
    "''').show()"
   ]
  },
  {
   "cell_type": "code",
   "execution_count": 69,
   "metadata": {},
   "outputs": [
    {
     "name": "stdout",
     "output_type": "stream",
     "text": [
      "+----+----------+---+\n",
      "| tip|total_bill|day|\n",
      "+----+----------+---+\n",
      "|3.35|     20.65|Sat|\n",
      "|4.08|     17.92|Sat|\n",
      "|2.75|     20.29|Sat|\n",
      "|2.23|     15.77|Sat|\n",
      "|7.58|     39.42|Sat|\n",
      "|3.18|     19.82|Sat|\n",
      "|2.34|     17.81|Sat|\n",
      "| 2.0|     13.37|Sat|\n",
      "| 2.0|     12.69|Sat|\n",
      "| 4.3|      21.7|Sat|\n",
      "| 3.0|     19.65|Sat|\n",
      "|1.45|      9.55|Sat|\n",
      "| 2.5|     18.35|Sat|\n",
      "| 3.0|     15.06|Sat|\n",
      "|2.45|     20.69|Sat|\n",
      "|3.27|     17.78|Sat|\n",
      "| 3.6|     24.06|Sat|\n",
      "| 2.0|     16.31|Sat|\n",
      "|3.07|     16.93|Sat|\n",
      "|2.31|     18.69|Sat|\n",
      "+----+----------+---+\n",
      "only showing top 20 rows\n",
      "\n"
     ]
    }
   ],
   "source": [
    "# find the tip, total_bill, and day with the highest overall sales for that day\n",
    "spark.sql('''\n",
    "SELECT tip, total_bill, day\n",
    "FROM tips\n",
    "WHERE day = (\n",
    "    SELECT day\n",
    "    FROM tips\n",
    "    GROUP BY day\n",
    "    ORDER BY sum(total_bill) DESC\n",
    "    LIMIT 1\n",
    ")    \n",
    "''').show()"
   ]
  },
  {
   "cell_type": "markdown",
   "metadata": {},
   "source": [
    "<hr style=\"border:2px solid black\"> </hr>"
   ]
  },
  {
   "cell_type": "markdown",
   "metadata": {},
   "source": [
    "# More Spark Dataframe Manipulation"
   ]
  },
  {
   "cell_type": "markdown",
   "metadata": {},
   "source": [
    "## Mixing in SQL expressions\n",
    "- expr()"
   ]
  },
  {
   "cell_type": "code",
   "execution_count": 72,
   "metadata": {},
   "outputs": [],
   "source": [
    "from pyspark.sql.functions import expr"
   ]
  },
  {
   "cell_type": "code",
   "execution_count": 73,
   "metadata": {},
   "outputs": [
    {
     "name": "stdout",
     "output_type": "stream",
     "text": [
      "+----------+----+------+------+---+------+----+-------------------+-------------------+\n",
      "|total_bill| tip|   sex|smoker|day|  time|size|            tip_pct|            tip_pct|\n",
      "+----------+----+------+------+---+------+----+-------------------+-------------------+\n",
      "|     16.99|1.01|Female|    No|Sun|Dinner|   2|0.05944673337257211|0.05944673337257211|\n",
      "|     10.34|1.66|  Male|    No|Sun|Dinner|   3|0.16054158607350097|0.16054158607350097|\n",
      "|     21.01| 3.5|  Male|    No|Sun|Dinner|   3|0.16658733936220846|0.16658733936220846|\n",
      "|     23.68|3.31|  Male|    No|Sun|Dinner|   2| 0.1397804054054054| 0.1397804054054054|\n",
      "|     24.59|3.61|Female|    No|Sun|Dinner|   4|0.14680764538430255|0.14680764538430255|\n",
      "|     25.29|4.71|  Male|    No|Sun|Dinner|   4|0.18623962040332148|0.18623962040332148|\n",
      "|      8.77| 2.0|  Male|    No|Sun|Dinner|   2|0.22805017103762829|0.22805017103762829|\n",
      "|     26.88|3.12|  Male|    No|Sun|Dinner|   4|0.11607142857142858|0.11607142857142858|\n",
      "|     15.04|1.96|  Male|    No|Sun|Dinner|   2|0.13031914893617022|0.13031914893617022|\n",
      "|     14.78|3.23|  Male|    No|Sun|Dinner|   2| 0.2185385656292287| 0.2185385656292287|\n",
      "|     10.27|1.71|  Male|    No|Sun|Dinner|   2| 0.1665043816942551| 0.1665043816942551|\n",
      "|     35.26| 5.0|Female|    No|Sun|Dinner|   4|0.14180374361883155|0.14180374361883155|\n",
      "|     15.42|1.57|  Male|    No|Sun|Dinner|   2|0.10181582360570687|0.10181582360570687|\n",
      "|     18.43| 3.0|  Male|    No|Sun|Dinner|   4|0.16277807921866522|0.16277807921866522|\n",
      "|     14.83|3.02|Female|    No|Sun|Dinner|   2|0.20364126770060686|0.20364126770060686|\n",
      "|     21.58|3.92|  Male|    No|Sun|Dinner|   2|0.18164967562557924|0.18164967562557924|\n",
      "|     10.33|1.67|Female|    No|Sun|Dinner|   3| 0.1616650532429816| 0.1616650532429816|\n",
      "|     16.29|3.71|  Male|    No|Sun|Dinner|   3|0.22774708410067526|0.22774708410067526|\n",
      "|     16.97| 3.5|Female|    No|Sun|Dinner|   3|0.20624631703005306|0.20624631703005306|\n",
      "|     17.46|2.54|  Male|    No|Sun|Dinner|   2|0.14547537227949597|0.14547537227949597|\n",
      "+----------+----+------+------+---+------+----+-------------------+-------------------+\n",
      "only showing top 20 rows\n",
      "\n"
     ]
    }
   ],
   "source": [
    "df.select(\n",
    "    '*',\n",
    "    expr('tip / total_bill as tip_pct')\n",
    ").where(\n",
    "    expr('day = \"Sun\" AND time = \"Dinner\"')\n",
    ").show()"
   ]
  },
  {
   "cell_type": "markdown",
   "metadata": {},
   "source": [
    "<hr style=\"border:2px solid black\"> </hr>"
   ]
  },
  {
   "cell_type": "markdown",
   "metadata": {},
   "source": [
    "## Joins"
   ]
  },
  {
   "cell_type": "code",
   "execution_count": 74,
   "metadata": {},
   "outputs": [
    {
     "name": "stdout",
     "output_type": "stream",
     "text": [
      "+---+------+--------+\n",
      "| id|     x|group_id|\n",
      "+---+------+--------+\n",
      "|  1| 0.527|       5|\n",
      "|  2| 1.287|       1|\n",
      "|  3|-1.209|       3|\n",
      "|  4| 0.688|       4|\n",
      "|  5|-0.157|       6|\n",
      "+---+------+--------+\n",
      "only showing top 5 rows\n",
      "\n",
      "+---+-----+\n",
      "| id|group|\n",
      "+---+-----+\n",
      "|  1|    a|\n",
      "|  2|    b|\n",
      "|  3|    c|\n",
      "|  4|    d|\n",
      "|  5|    e|\n",
      "|  6|    f|\n",
      "+---+-----+\n",
      "\n"
     ]
    }
   ],
   "source": [
    "df1 = spark.createDataFrame(pd.DataFrame({\n",
    "    'id': np.arange(100) + 1,\n",
    "    'x': np.random.randn(100).round(3),\n",
    "    'group_id': np.random.choice(range(1, 7), 100),\n",
    "}))\n",
    "df2 = spark.createDataFrame(pd.DataFrame({\n",
    "    'id': range(1, 7),\n",
    "    'group': list('abcdef')\n",
    "}))\n",
    "df1.show(5)\n",
    "df2.show()"
   ]
  },
  {
   "cell_type": "code",
   "execution_count": 77,
   "metadata": {},
   "outputs": [
    {
     "name": "stdout",
     "output_type": "stream",
     "text": [
      "+---+------+--------+---+-----+\n",
      "| id|     x|group_id| id|group|\n",
      "+---+------+--------+---+-----+\n",
      "|  1| 0.527|       5|  1|    a|\n",
      "|  2| 1.287|       1|  1|    a|\n",
      "|  3|-1.209|       3|  1|    a|\n",
      "|  4| 0.688|       4|  1|    a|\n",
      "|  5|-0.157|       6|  1|    a|\n",
      "|  6| 1.981|       3|  1|    a|\n",
      "|  7|-2.311|       4|  1|    a|\n",
      "|  8| 0.583|       2|  1|    a|\n",
      "|  9|-0.751|       2|  1|    a|\n",
      "| 10|-0.502|       6|  1|    a|\n",
      "| 11| 0.012|       5|  1|    a|\n",
      "| 12|-0.229|       3|  1|    a|\n",
      "|  1| 0.527|       5|  2|    b|\n",
      "|  2| 1.287|       1|  2|    b|\n",
      "|  3|-1.209|       3|  2|    b|\n",
      "|  4| 0.688|       4|  2|    b|\n",
      "|  5|-0.157|       6|  2|    b|\n",
      "|  6| 1.981|       3|  2|    b|\n",
      "|  7|-2.311|       4|  2|    b|\n",
      "|  8| 0.583|       2|  2|    b|\n",
      "+---+------+--------+---+-----+\n",
      "only showing top 20 rows\n",
      "\n"
     ]
    }
   ],
   "source": [
    "#this works but its wierd, need a condition\n",
    "df1.join(df2).show()"
   ]
  },
  {
   "cell_type": "code",
   "execution_count": 75,
   "metadata": {},
   "outputs": [
    {
     "name": "stdout",
     "output_type": "stream",
     "text": [
      "+---+------+--------+---+-----+\n",
      "| id|     x|group_id| id|group|\n",
      "+---+------+--------+---+-----+\n",
      "|  5|-0.157|       6|  6|    f|\n",
      "| 10|-0.502|       6|  6|    f|\n",
      "| 15| 0.396|       6|  6|    f|\n",
      "| 23| 1.379|       6|  6|    f|\n",
      "| 27| 1.776|       6|  6|    f|\n",
      "+---+------+--------+---+-----+\n",
      "only showing top 5 rows\n",
      "\n"
     ]
    }
   ],
   "source": [
    "df_merged = df1.join(df2, df1.group_id == df2.id)\n",
    "df_merged.show(5)"
   ]
  },
  {
   "cell_type": "code",
   "execution_count": 76,
   "metadata": {},
   "outputs": [
    {
     "name": "stdout",
     "output_type": "stream",
     "text": [
      "+--------+---+------+-----+\n",
      "|group_id| id|     x|group|\n",
      "+--------+---+------+-----+\n",
      "|       6|  5|-0.157|    f|\n",
      "|       6| 10|-0.502|    f|\n",
      "|       6| 15| 0.396|    f|\n",
      "|       6| 23| 1.379|    f|\n",
      "|       6| 27| 1.776|    f|\n",
      "+--------+---+------+-----+\n",
      "only showing top 5 rows\n",
      "\n"
     ]
    }
   ],
   "source": [
    "#rename the columns that are the same to make more legible\n",
    "#now join on group_id\n",
    "df1.join(df2.withColumnRenamed('id', 'group_id'), 'group_id').show(5)"
   ]
  },
  {
   "cell_type": "markdown",
   "metadata": {},
   "source": [
    "<hr style=\"border:2px solid black\"> </hr>"
   ]
  },
  {
   "cell_type": "markdown",
   "metadata": {},
   "source": [
    "## .explain"
   ]
  },
  {
   "cell_type": "code",
   "execution_count": 80,
   "metadata": {},
   "outputs": [
    {
     "name": "stdout",
     "output_type": "stream",
     "text": [
      "== Physical Plan ==\n",
      "*(1) Project [total_bill#0, tip#1, sex#2, smoker#3, day#4, time#5, size#6L, (tip#1 / total_bill#0) AS tip_pct#432]\n",
      "+- *(1) Scan ExistingRDD[total_bill#0,tip#1,sex#2,smoker#3,day#4,time#5,size#6L]\n",
      "\n",
      "\n"
     ]
    }
   ],
   "source": [
    "#shows how df came into existance\n",
    "#read from bottom to top\n",
    "df.explain()"
   ]
  },
  {
   "cell_type": "code",
   "execution_count": 81,
   "metadata": {},
   "outputs": [],
   "source": [
    "#create the dataframe\n",
    "df = spark.createDataFrame(pydataset.data('tips'))"
   ]
  },
  {
   "cell_type": "code",
   "execution_count": 82,
   "metadata": {},
   "outputs": [
    {
     "name": "stdout",
     "output_type": "stream",
     "text": [
      "== Physical Plan ==\n",
      "*(1) Filter (isnotnull(time#1906) AND (time#1906 = Lunch))\n",
      "+- *(1) Scan ExistingRDD[total_bill#1901,tip#1902,sex#1903,smoker#1904,day#1905,time#1906,size#1907L]\n",
      "\n",
      "\n"
     ]
    }
   ],
   "source": [
    "#grab the existing dataframe and filter time for only lunch\n",
    "df.filter(df.time == 'Lunch').explain()"
   ]
  },
  {
   "cell_type": "code",
   "execution_count": 83,
   "metadata": {},
   "outputs": [
    {
     "name": "stdout",
     "output_type": "stream",
     "text": [
      "== Physical Plan ==\n",
      "*(1) Filter (((isnotnull(time#1906) AND isnotnull(size#1907L)) AND (time#1906 = Lunch)) AND (size#1907L > 1))\n",
      "+- *(1) Scan ExistingRDD[total_bill#1901,tip#1902,sex#1903,smoker#1904,day#1905,time#1906,size#1907L]\n",
      "\n",
      "\n"
     ]
    }
   ],
   "source": [
    "#filter lunch and size greater than 1\n",
    "df.filter(df.time == 'Lunch').filter(df.size >1).explain()"
   ]
  },
  {
   "cell_type": "code",
   "execution_count": 84,
   "metadata": {},
   "outputs": [
    {
     "name": "stdout",
     "output_type": "stream",
     "text": [
      "== Physical Plan ==\n",
      "*(1) Project [total_bill#1901, tip#1902, sex#1903, smoker#1904, day#1905, time#1906, size#1907L, (tip#1902 / total_bill#1901) AS tip_pct#1915]\n",
      "+- *(1) Filter (((isnotnull(time#1906) AND isnotnull(size#1907L)) AND (time#1906 = Lunch)) AND (size#1907L > 1))\n",
      "   +- *(1) Scan ExistingRDD[total_bill#1901,tip#1902,sex#1903,smoker#1904,day#1905,time#1906,size#1907L]\n",
      "\n",
      "\n"
     ]
    }
   ],
   "source": [
    "#lunch, larger than 1, tip percent column\n",
    "df.filter(df.time == 'Lunch').filter(df.size >1).select('*', expr('tip/ total_bill as tip_pct')).explain()"
   ]
  },
  {
   "cell_type": "code",
   "execution_count": 86,
   "metadata": {},
   "outputs": [
    {
     "name": "stdout",
     "output_type": "stream",
     "text": [
      "== Physical Plan ==\n",
      "*(1) Project [smoker#1904, total_bill#1901, (tip#1902 / total_bill#1901) AS tip_pct#1925]\n",
      "+- *(1) Filter (isnotnull(smoker#1904) AND (smoker#1904 = Yes))\n",
      "   +- *(1) Scan ExistingRDD[total_bill#1901,tip#1902,sex#1903,smoker#1904,day#1905,time#1906,size#1907L]\n",
      "\n",
      "\n"
     ]
    }
   ],
   "source": [
    "# Scan, Filter, Project\n",
    "df.filter(df.smoker =='Yes').select('smoker', 'total_bill', expr('tip/ total_bill as tip_pct')).explain()"
   ]
  },
  {
   "cell_type": "code",
   "execution_count": 87,
   "metadata": {},
   "outputs": [
    {
     "name": "stdout",
     "output_type": "stream",
     "text": [
      "== Physical Plan ==\n",
      "*(1) Project [smoker#1904, total_bill#1901, (tip#1902 / total_bill#1901) AS tip_pct#1929]\n",
      "+- *(1) Filter (isnotnull(smoker#1904) AND (smoker#1904 = Yes))\n",
      "   +- *(1) Scan ExistingRDD[total_bill#1901,tip#1902,sex#1903,smoker#1904,day#1905,time#1906,size#1907L]\n",
      "\n",
      "\n"
     ]
    }
   ],
   "source": [
    "#Scan, Filer, Project\n",
    "#even though order was flipped (from above cell), Spark is smart enough to fix order\n",
    "#Filter before Project\n",
    "df.select('smoker', 'total_bill', expr('tip/ total_bill as tip_pct')).filter(df.smoker =='Yes').explain()"
   ]
  },
  {
   "cell_type": "code",
   "execution_count": 70,
   "metadata": {},
   "outputs": [
    {
     "name": "stdout",
     "output_type": "stream",
     "text": [
      "== Physical Plan ==\n",
      "*(1) Project [total_bill#0, tip#1, sex#2, smoker#3, day#4, time#5, size#6L, (tip#1 / total_bill#0) AS tip_pct#432, (tip#1 / total_bill#0) AS tip_pct#1680]\n",
      "+- *(1) Filter (isnotnull(time#5) AND (time#5 = Dinner))\n",
      "   +- *(1) Scan ExistingRDD[total_bill#0,tip#1,sex#2,smoker#3,day#4,time#5,size#6L]\n",
      "\n",
      "\n"
     ]
    }
   ],
   "source": [
    "df.where(\n",
    "    df.time == 'Dinner'\n",
    ").select(\n",
    "    '*',\n",
    "    (df.tip / df.total_bill).alias('tip_pct'),\n",
    ").explain()"
   ]
  },
  {
   "cell_type": "code",
   "execution_count": 71,
   "metadata": {
    "scrolled": true
   },
   "outputs": [
    {
     "name": "stdout",
     "output_type": "stream",
     "text": [
      "== Physical Plan ==\n",
      "*(1) Project [total_bill#0, tip#1, sex#2, smoker#3, day#4, time#5, size#6L, (tip#1 / total_bill#0) AS tip_pct#432, (tip#1 / total_bill#0) AS tip_pct#1690]\n",
      "+- *(1) Filter (isnotnull(time#5) AND (time#5 = Dinner))\n",
      "   +- *(1) Scan ExistingRDD[total_bill#0,tip#1,sex#2,smoker#3,day#4,time#5,size#6L]\n",
      "\n",
      "\n"
     ]
    }
   ],
   "source": [
    "df.select(\n",
    "    '*',\n",
    "    (df.tip / df.total_bill).alias('tip_pct'),\n",
    ").where(\n",
    "    df.time == 'Dinner'\n",
    ").explain()"
   ]
  }
 ],
 "metadata": {
  "kernelspec": {
   "display_name": "Python 3",
   "language": "python",
   "name": "python3"
  },
  "language_info": {
   "codemirror_mode": {
    "name": "ipython",
    "version": 3
   },
   "file_extension": ".py",
   "mimetype": "text/x-python",
   "name": "python",
   "nbconvert_exporter": "python",
   "pygments_lexer": "ipython3",
   "version": "3.8.5"
  }
 },
 "nbformat": 4,
 "nbformat_minor": 4
}
