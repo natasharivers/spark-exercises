{
 "cells": [
  {
   "cell_type": "markdown",
   "metadata": {},
   "source": [
    "# Exploring Data"
   ]
  },
  {
   "cell_type": "markdown",
   "metadata": {},
   "source": [
    "<hr style=\"border:2px solid black\"> </hr>"
   ]
  },
  {
   "cell_type": "markdown",
   "metadata": {},
   "source": [
    "## 3 Ways to Explore:"
   ]
  },
  {
   "cell_type": "markdown",
   "metadata": {},
   "source": [
    "### #1: Work with the data in Spark\n",
    "- Pros: \n",
    "    - produce the most accurate representation of the data\n",
    "- Cons:\n",
    "    - limited by spark operations\n",
    "    - cannot do visuaizations"
   ]
  },
  {
   "cell_type": "markdown",
   "metadata": {},
   "source": [
    "### #2: Work with the sample of the data in local memory with pandas\n",
    "- Pros: \n",
    "    - we can utilize all of the ata exploratin and visual tools we are used to \n",
    "- Cons:\n",
    "    - we are y nature only working with a subset of the data and could miss trends"
   ]
  },
  {
   "cell_type": "markdown",
   "metadata": {},
   "source": [
    "### #3: Aggregate the data with Spark then work with aggregated data locally\n",
    "- Pros: \n",
    "    - meets 1 & 2's limits half way by taking consideration from 1&2\n",
    "    - we dont miss out on scope information, work in pandas\n",
    "- Cons:\n",
    "    - we are limited to what we can do with spark aggreations\n",
    "    - aggregation will generally change the shape of the data, losing details\n"
   ]
  },
  {
   "cell_type": "markdown",
   "metadata": {},
   "source": [
    "<hr style=\"border:2px solid black\"> </hr>"
   ]
  },
  {
   "cell_type": "code",
   "execution_count": null,
   "metadata": {},
   "outputs": [],
   "source": [
    "            "
   ]
  }
 ],
 "metadata": {
  "kernelspec": {
   "display_name": "Python 3",
   "language": "python",
   "name": "python3"
  },
  "language_info": {
   "codemirror_mode": {
    "name": "ipython",
    "version": 3
   },
   "file_extension": ".py",
   "mimetype": "text/x-python",
   "name": "python",
   "nbconvert_exporter": "python",
   "pygments_lexer": "ipython3",
   "version": "3.8.5"
  }
 },
 "nbformat": 4,
 "nbformat_minor": 4
}
